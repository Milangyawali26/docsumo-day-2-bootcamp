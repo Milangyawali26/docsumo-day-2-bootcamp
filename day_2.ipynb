{
 "cells": [
  {
   "cell_type": "markdown",
   "id": "09a62f40",
   "metadata": {},
   "source": [
    "# Things to be covered\n",
    "\n",
    "### From Day 1\n",
    "- Git, github and gitpod\n",
    "- python installation and venv\n",
    "- Tools required for Data Science\n",
    "- numpy\n",
    "- pandas\n",
    "- matplotlib\n",
    "- sklearn\n",
    "\n",
    "\n",
    "## Day 2\n",
    "\n",
    "- ### Data Preprocessing\n",
    "    - Scaling and Normalization\n",
    "        - https://wellsr.com/python/data-scaling-and-normalization-with-python/\n",
    "    - Encoding\n",
    "        - only talk about one hot encoder and label encoder\n",
    "        - https://medium.com/perspectivesondatascience/data-preprocessing-part-iv-categorical-encoding-e37599d0f34d\n",
    "        \n",
    "    - Train Test Split\n",
    "    - Cross Validation\n",
    "        - Outlier\n",
    "        - Data Imbalance\n",
    "        \n",
    "- https://medium.com/analytics-vidhya/boston-house-price-prediction-using-machine-learning-ad3750a866cd#:~:text=Training%20Accuracy%3A%2099.9%25%20Accuracy.&text=From%20the%20Exploratory%20Data%20Analysis,performed%20better%20than%20Linear%20Regression.        \n",
    "- ### Intro to machine learning\n",
    "    - Machine learning algorithms\n",
    "        - Linear Regression\n",
    "            - https://realpython.com/train-test-split-python-data/\n",
    "        - Decision Tree\n",
    "            - don't work on it.\n",
    "     - Performance Metrics\n",
    "         - Accuracy \n",
    "             - \n",
    "         - Precision\n",
    "         - Recall\n",
    "         - F1 Score\n",
    "         \n",
    "         \n",
    "- ## Tools:\n",
    "    - sklearn"
   ]
  },
  {
   "cell_type": "code",
   "execution_count": null,
   "id": "89e20922",
   "metadata": {},
   "outputs": [],
   "source": []
  },
  {
   "cell_type": "code",
   "execution_count": 1,
   "id": "2d2cae91",
   "metadata": {},
   "outputs": [],
   "source": [
    "# Tools:\n",
    "# numpy: pip install numpy\n",
    "# pandas: pip install pandas\n",
    "# matplotlib: pip install matplotlib\n",
    "# sklearn: pip3 install -U scikit-learn\n"
   ]
  },
  {
   "cell_type": "code",
   "execution_count": 2,
   "id": "7a3af103",
   "metadata": {},
   "outputs": [],
   "source": [
    "# exercise on numpy\n",
    "import numpy"
   ]
  },
  {
   "cell_type": "code",
   "execution_count": 3,
   "id": "5672a2a6",
   "metadata": {},
   "outputs": [
    {
     "name": "stdout",
     "output_type": "stream",
     "text": [
      "[1 2 3 4 5]\n"
     ]
    }
   ],
   "source": [
    "arr = numpy.array([1, 2, 3, 4, 5])\n",
    "\n",
    "print(arr)"
   ]
  },
  {
   "cell_type": "code",
   "execution_count": 4,
   "id": "a5152d9c",
   "metadata": {},
   "outputs": [],
   "source": [
    "import numpy as np"
   ]
  },
  {
   "cell_type": "code",
   "execution_count": 6,
   "id": "a1bf96f2",
   "metadata": {},
   "outputs": [
    {
     "name": "stdout",
     "output_type": "stream",
     "text": [
      "[1 2 3 4 5]\n"
     ]
    }
   ],
   "source": [
    "arr_1 = np.array([1,2,3,4,5])\n",
    "print(arr_1)"
   ]
  },
  {
   "cell_type": "code",
   "execution_count": 7,
   "id": "b062bbbb",
   "metadata": {},
   "outputs": [],
   "source": [
    "# dimensions in arrays\n",
    "a = np.array(42)\n",
    "b = np.array([1, 2, 3, 4, 5])\n",
    "c = np.array([[1, 2, 3], [4, 5, 6]])\n",
    "d = np.array([[[1, 2, 3], [4, 5, 6]], [[1, 2, 3], [4, 5, 6]]])"
   ]
  },
  {
   "cell_type": "code",
   "execution_count": 9,
   "id": "62f8ac74",
   "metadata": {},
   "outputs": [
    {
     "data": {
      "text/plain": [
       "(0, 1, 2, 3)"
      ]
     },
     "execution_count": 9,
     "metadata": {},
     "output_type": "execute_result"
    }
   ],
   "source": [
    "a.ndim, b.ndim, c.ndim, d.ndim"
   ]
  },
  {
   "cell_type": "code",
   "execution_count": 11,
   "id": "e3dc6ad2",
   "metadata": {},
   "outputs": [
    {
     "data": {
      "text/plain": [
       "array([1, 2, 3, 4, 5])"
      ]
     },
     "execution_count": 11,
     "metadata": {},
     "output_type": "execute_result"
    }
   ],
   "source": [
    "# fetch elements\n",
    "b"
   ]
  },
  {
   "cell_type": "code",
   "execution_count": 16,
   "id": "d2d379e1",
   "metadata": {},
   "outputs": [
    {
     "data": {
      "text/plain": [
       "1"
      ]
     },
     "execution_count": 16,
     "metadata": {},
     "output_type": "execute_result"
    }
   ],
   "source": [
    "# get the first element\n",
    "b[0]"
   ]
  },
  {
   "cell_type": "code",
   "execution_count": 17,
   "id": "562c9cec",
   "metadata": {},
   "outputs": [
    {
     "data": {
      "text/plain": [
       "5"
      ]
     },
     "execution_count": 17,
     "metadata": {},
     "output_type": "execute_result"
    }
   ],
   "source": [
    "# get the last element\n",
    "b[-1]"
   ]
  },
  {
   "cell_type": "code",
   "execution_count": 18,
   "id": "64e2a733",
   "metadata": {},
   "outputs": [
    {
     "data": {
      "text/plain": [
       "array([5, 4, 3, 2, 1])"
      ]
     },
     "execution_count": 18,
     "metadata": {},
     "output_type": "execute_result"
    }
   ],
   "source": [
    "# inverse it\n",
    "b[::-1]"
   ]
  },
  {
   "cell_type": "code",
   "execution_count": null,
   "id": "bf774ae5",
   "metadata": {},
   "outputs": [],
   "source": []
  },
  {
   "cell_type": "code",
   "execution_count": null,
   "id": "21f1a813",
   "metadata": {},
   "outputs": [],
   "source": []
  }
 ],
 "metadata": {
  "kernelspec": {
   "display_name": "Python 3 (ipykernel)",
   "language": "python",
   "name": "python3"
  },
  "language_info": {
   "codemirror_mode": {
    "name": "ipython",
    "version": 3
   },
   "file_extension": ".py",
   "mimetype": "text/x-python",
   "name": "python",
   "nbconvert_exporter": "python",
   "pygments_lexer": "ipython3",
   "version": "3.8.10"
  }
 },
 "nbformat": 4,
 "nbformat_minor": 5
}
